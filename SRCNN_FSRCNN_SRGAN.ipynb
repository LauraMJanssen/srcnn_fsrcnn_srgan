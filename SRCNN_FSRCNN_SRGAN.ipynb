{
  "cells": [
    {
      "cell_type": "markdown",
      "metadata": {
        "id": "IsIrkKmceMR9"
      },
      "source": [
        "## SET UP"
      ]
    },
    {
      "cell_type": "code",
      "execution_count": null,
      "metadata": {
        "id": "kaapnJi0SxOJ"
      },
      "outputs": [],
      "source": [
        "from google.colab import drive\n",
        "drive.mount('/content/drive')"
      ]
    },
    {
      "cell_type": "code",
      "execution_count": null,
      "metadata": {
        "id": "I4ZfPkfdTHcQ"
      },
      "outputs": [],
      "source": [
        "!git clone https://github.com/LauraMJanssen/srcnn_fsrcnn_srgan.git\n",
        "%cd srcnn_fsrcnn_srgan"
      ]
    },
    {
      "cell_type": "markdown",
      "metadata": {
        "id": "UoQ5SxcceK5j"
      },
      "source": [
        "## TRAIN"
      ]
    },
    {
      "cell_type": "markdown",
      "metadata": {
        "id": "pbzwAZsweGST"
      },
      "source": [
        "i. SRCNN"
      ]
    },
    {
      "cell_type": "markdown",
      "metadata": {
        "id": "dE4Diioh9hHm"
      },
      "source": [
        "For transfer learning: \\\n",
        "remove '#' in line 31 in 'srcnn_fsrcnn_srgan/SRCNN/solver.py'"
      ]
    },
    {
      "cell_type": "code",
      "execution_count": null,
      "metadata": {
        "id": "hqSr5bqhZ-UD"
      },
      "outputs": [],
      "source": [
        "!python3 main.py -m srcnn \\\n",
        "                 --lr 0.0003 \\\n",
        "                 --nEpochs 20"
      ]
    },
    {
      "cell_type": "code",
      "execution_count": null,
      "metadata": {
        "id": "5jk1aMpOd87T"
      },
      "outputs": [],
      "source": [
        "!zip -r /content/srcnn_model.zip '/content/srcnn_fsrcnn_srgan/model_path.pth'"
      ]
    },
    {
      "cell_type": "code",
      "execution_count": null,
      "metadata": {
        "id": "5bocf8iJeDch"
      },
      "outputs": [],
      "source": [
        "from google.colab import files\n",
        "files.download(\"/content/srcnn_model.zip\")"
      ]
    },
    {
      "cell_type": "markdown",
      "metadata": {
        "id": "__Zo9YMSeEd1"
      },
      "source": [
        "ii. FSRCNN"
      ]
    },
    {
      "cell_type": "markdown",
      "metadata": {
        "id": "v1ZyUk-W9_kh"
      },
      "source": [
        "For transfer learning: \\\n",
        "remove '#' in line 29 in 'srcnn_fsrcnn_srgan/FSRCNN/solver.py'"
      ]
    },
    {
      "cell_type": "code",
      "execution_count": null,
      "metadata": {
        "id": "H1ZvJIdedoZk"
      },
      "outputs": [],
      "source": [
        "!python3 main.py -m srcnn \\\n",
        "                 --lr 0.0003 \\\n",
        "                 --nEpochs 20"
      ]
    },
    {
      "cell_type": "code",
      "execution_count": null,
      "metadata": {
        "id": "OIAGW2Xwdt8e"
      },
      "outputs": [],
      "source": [
        "!zip -r /content/fsrcnn_model.zip '/content/srcnn_fsrcnn_srgan/model_path.pth'"
      ]
    },
    {
      "cell_type": "code",
      "execution_count": null,
      "metadata": {
        "id": "2lSK0B0nd6qO"
      },
      "outputs": [],
      "source": [
        "from google.colab import files\n",
        "files.download(\"/content/fsrcnn_model.zip\")"
      ]
    },
    {
      "cell_type": "markdown",
      "metadata": {
        "id": "aA-cf8IheHtj"
      },
      "source": [
        "iii. SRGAN"
      ]
    },
    {
      "cell_type": "code",
      "execution_count": null,
      "metadata": {
        "id": "x22EXoSNdpYL"
      },
      "outputs": [],
      "source": [
        "!python3 main.py -m srgan \\\n",
        "                 --lr 0.0003 \\\n",
        "                 --nEpochs 20"
      ]
    },
    {
      "cell_type": "code",
      "execution_count": null,
      "metadata": {
        "id": "GEP_EfNi6g8A"
      },
      "outputs": [],
      "source": [
        "!zip -r /content/mGen.zip \\\n",
        "        '/content/srcnn_fsrcnn_srgan/SRGAN_Generator_model_path.pth'"
      ]
    },
    {
      "cell_type": "code",
      "execution_count": null,
      "metadata": {
        "id": "fp00R-L4dShR"
      },
      "outputs": [],
      "source": [
        "!zip -r /content/mDis.zip \\\n",
        "        '/content/srcnn_fsrcnn_srgan/SRGAN_Discriminator_model_path.pth'"
      ]
    },
    {
      "cell_type": "code",
      "execution_count": null,
      "metadata": {
        "colab": {
          "base_uri": "https://localhost:8080/",
          "height": 34
        },
        "id": "IcF9q6wuXPxb",
        "outputId": "9f85368e-814b-43e1-ebec-4ddf4d2d0db8"
      },
      "outputs": [],
      "source": [
        "from google.colab import files\n",
        "files.download(\"/content/mGen.zip\")\n",
        "files.download(\"/content/mDis.zip\")"
      ]
    },
    {
      "cell_type": "markdown",
      "metadata": {
        "id": "gSMqyeZ1eJPU"
      },
      "source": [
        "## TEST"
      ]
    },
    {
      "cell_type": "markdown",
      "metadata": {
        "id": "r6EAdv3WAJAP"
      },
      "source": [
        "(1) Define quality metric functions"
      ]
    },
    {
      "cell_type": "code",
      "execution_count": 16,
      "metadata": {
        "id": "MDzvxAAIU9FF"
      },
      "outputs": [],
      "source": [
        "from skimage.metrics import structural_similarity as ssim\n",
        "\n",
        "# define a function for peak signal-to-noise ratio (PSNR)\n",
        "def psnr(target, ref):\n",
        "         \n",
        "    # assume RGB image\n",
        "    target_data = target.astype(float)\n",
        "    ref_data = ref.astype(float)\n",
        "\n",
        "    diff = ref_data - target_data\n",
        "    diff = diff.flatten('C')\n",
        "\n",
        "    rmse = math.sqrt(np.mean(diff ** 2.))\n",
        "\n",
        "    return 20 * math.log10(255. / rmse)\n",
        "\n",
        "# define function for mean squared error (MSE)\n",
        "def mse(target, ref):\n",
        "    # the MSE between the two images is the sum of the squared difference between the two images\n",
        "    err = np.sum((target.astype('float') - ref.astype('float')) ** 2)\n",
        "    err /= float(target.shape[0] * target.shape[1])\n",
        "    \n",
        "    return err\n",
        "\n",
        "# define function that combines all three image quality metrics\n",
        "def compare_images(target, ref):\n",
        "    scores = []\n",
        "    scores.append(psnr(target, ref))\n",
        "    scores.append(mse(target, ref))\n",
        "    scores.append(ssim(target, ref, multichannel =True))\n",
        "    \n",
        "    return scores"
      ]
    },
    {
      "cell_type": "markdown",
      "metadata": {
        "id": "pt1cn9fhAMWq"
      },
      "source": [
        "(2) Execute model on specific image:"
      ]
    },
    {
      "cell_type": "markdown",
      "metadata": {
        "id": "mV2lhTVQfwQh"
      },
      "source": [
        "i. SRCNN & FSRCNN"
      ]
    },
    {
      "cell_type": "code",
      "execution_count": null,
      "metadata": {
        "id": "YeZItRfbfvuA"
      },
      "outputs": [],
      "source": [
        "!python3 super_resolve.py \\\n",
        "        --input '/content/drive/MyDrive/IVUSImages/LR_Scale4_Valid/001.png' \\\n",
        "        --output 'test.png' \\\n",
        "        --model '/content/srcnn_fsrcnn_srgan/model_path.pth'"
      ]
    },
    {
      "cell_type": "markdown",
      "metadata": {
        "id": "Yreqp0Ldfxub"
      },
      "source": [
        "ii. SRGAN"
      ]
    },
    {
      "cell_type": "code",
      "execution_count": null,
      "metadata": {
        "id": "Nl-ybFxzUgAl"
      },
      "outputs": [],
      "source": [
        "!python3 super_resolve.py \\\n",
        "        --input '/content/drive/MyDrive/IVUSImages/LR_Scale4_Valid/001.png' \\\n",
        "        --output 'test.png' \\\n",
        "        --model '/content/super-resolution/SRGAN_Generator_model_path.pth'"
      ]
    },
    {
      "cell_type": "markdown",
      "metadata": {
        "id": "yR1x_dipAUZ0"
      },
      "source": [
        "(3) Print results \\\n",
        "(make sure to adapt ref and degraded parts according to image read above)"
      ]
    },
    {
      "cell_type": "code",
      "execution_count": null,
      "metadata": {
        "id": "2X8TAtMMU_I3"
      },
      "outputs": [],
      "source": [
        "import math\n",
        "import numpy as np\n",
        "import cv2\n",
        "\n",
        "HR = cv2.imread('/content/drive/MyDrive/IVUSImages/HR_Valid/001.png')\n",
        "LR = cv2.imread('/content/drive/MyDrive/IVUSImages/LR_Scale4_Valid/001.png')\n",
        "SR = cv2.imread('/content/srcnn_fsrcnn_srgan/test.png')\n",
        "  \n",
        "# image quality calculations\n",
        "scores = []\n",
        "h, w, _ = LR.shape\n",
        "LR2 = cv2.resize(LR, (4*w, 4*h))\n",
        "scores.append(compare_images(LR2, HR))\n",
        "\n",
        "scores.append(compare_images(SR, HR))\n",
        " \n",
        "# print all scores for all images\n",
        "print('Degraded Image: \\nPSNR: {}\\nMSE: {}\\nSSIM: {}\\n'\n",
        "        .format(scores[0][0], scores[0][1], scores[0][2]))\n",
        "print('Reconstructed Image: \\nPSNR: {}\\nMSE: {}\\nSSIM: {}\\n'\n",
        "        .format(scores[1][0], scores[1][1], scores[1][2]))"
      ]
    }
  ],
  "metadata": {
    "accelerator": "GPU",
    "colab": {
      "collapsed_sections": [],
      "machine_shape": "hm",
      "name": "SRCNN_FSRCNN_SRGAN",
      "provenance": []
    },
    "gpuClass": "standard",
    "kernelspec": {
      "display_name": "Python 3",
      "name": "python3"
    },
    "language_info": {
      "name": "python"
    }
  },
  "nbformat": 4,
  "nbformat_minor": 0
}
