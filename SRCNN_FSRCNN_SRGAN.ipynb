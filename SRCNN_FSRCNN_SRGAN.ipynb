{
  "cells": [
    {
      "cell_type": "markdown",
      "source": [
        "## SET UP"
      ],
      "metadata": {
        "id": "IsIrkKmceMR9"
      }
    },
    {
      "cell_type": "code",
      "execution_count": 1,
      "metadata": {
        "colab": {
          "base_uri": "https://localhost:8080/"
        },
        "id": "kaapnJi0SxOJ",
        "outputId": "df22a4b3-9031-4f7f-fc43-a24471b86076"
      },
      "outputs": [
        {
          "output_type": "stream",
          "name": "stdout",
          "text": [
            "Mounted at /content/drive\n"
          ]
        }
      ],
      "source": [
        "from google.colab import drive\n",
        "drive.mount('/content/drive')"
      ]
    },
    {
      "cell_type": "code",
      "execution_count": 15,
      "metadata": {
        "colab": {
          "base_uri": "https://localhost:8080/"
        },
        "id": "I4ZfPkfdTHcQ",
        "outputId": "4107169b-320b-462c-ab11-68908dbe31c6"
      },
      "outputs": [
        {
          "output_type": "stream",
          "name": "stdout",
          "text": [
            "Cloning into 'srcnn_fsrcnn_srgan'...\n",
            "remote: Enumerating objects: 93, done.\u001b[K\n",
            "remote: Counting objects: 100% (93/93), done.\u001b[K\n",
            "remote: Compressing objects: 100% (77/77), done.\u001b[K\n",
            "remote: Total 93 (delta 32), reused 71 (delta 13), pack-reused 0\u001b[K\n",
            "Unpacking objects: 100% (93/93), done.\n",
            "/content/srcnn_fsrcnn_srgan\n"
          ]
        }
      ],
      "source": [
        "!git clone https://github.com/LauraMJanssen/srcnn_fsrcnn_srgan.git\n",
        "%cd srcnn_fsrcnn_srgan"
      ]
    },
    {
      "cell_type": "code",
      "source": [
        "!rm -r /content/srcnn_fsrcnn_srgan\n",
        "%cd /content/"
      ],
      "metadata": {
        "colab": {
          "base_uri": "https://localhost:8080/"
        },
        "id": "rTwt_mF7-vBl",
        "outputId": "71496a85-aa6e-41d1-f1c0-f95762486cec"
      },
      "execution_count": 14,
      "outputs": [
        {
          "output_type": "stream",
          "name": "stdout",
          "text": [
            "/content\n"
          ]
        }
      ]
    },
    {
      "cell_type": "markdown",
      "source": [
        "## TRAIN"
      ],
      "metadata": {
        "id": "UoQ5SxcceK5j"
      }
    },
    {
      "cell_type": "markdown",
      "source": [
        "i. SRCNN"
      ],
      "metadata": {
        "id": "pbzwAZsweGST"
      }
    },
    {
      "cell_type": "markdown",
      "source": [
        "For transfer learning: \\\\\n",
        "remove '#' in line 31 in 'srcnn_fsrcnn_srgan/SRCNN/solver.py'"
      ],
      "metadata": {
        "id": "dE4Diioh9hHm"
      }
    },
    {
      "cell_type": "code",
      "execution_count": 18,
      "metadata": {
        "colab": {
          "base_uri": "https://localhost:8080/"
        },
        "id": "hqSr5bqhZ-UD",
        "outputId": "669645fe-b178-4c0c-8fb0-0ea3e9538055"
      },
      "outputs": [
        {
          "output_type": "stream",
          "name": "stdout",
          "text": [
            "===> Loading datasets\n",
            "\n",
            "===> Epoch 1 starts:\n",
            " 5398/5398 [================================================================================>]  Step: 12ms | Tot: 1m15s | Loss: 0.0010\n",
            "    Average Loss: 0.0010\n",
            " 1349/1349 [================================================================================>]  Step: 207ms | Tot: 5m52s | PSNR: 32.4992\n",
            "    Average PSNR: 32.4992 dB\n",
            "/usr/local/lib/python3.7/dist-packages/torch/optim/lr_scheduler.py:156: UserWarning: The epoch parameter in `scheduler.step()` was not necessary and is being deprecated where possible. Please use `scheduler.step()` to step the scheduler. During the deprecation, if epoch is different from None, the closed form is used instead of the new chainable form, where available. Please open an issue if you are unable to replicate your use case: https://github.com/pytorch/pytorch/issues/new/choose.\n",
            "  warnings.warn(EPOCH_DEPRECATION_WARNING, UserWarning)\n",
            "Checkpoint saved to model_path.pth\n"
          ]
        }
      ],
      "source": [
        "!python3 main.py -m srcnn \\\n",
        "                 --lr 0.0003 \\\n",
        "                 --nEpochs 20"
      ]
    },
    {
      "cell_type": "code",
      "source": [
        "!zip -r /contetn/srcnn_model.zip '/content/srcnn_fsrcnn_srgan/model_path.pth'"
      ],
      "metadata": {
        "id": "5jk1aMpOd87T"
      },
      "execution_count": null,
      "outputs": []
    },
    {
      "cell_type": "code",
      "source": [
        "from google.colab import files\n",
        "files.download(\"/content/srcnn_model.zip\")"
      ],
      "metadata": {
        "id": "5bocf8iJeDch"
      },
      "execution_count": null,
      "outputs": []
    },
    {
      "cell_type": "markdown",
      "source": [
        "ii. FSRCNN"
      ],
      "metadata": {
        "id": "__Zo9YMSeEd1"
      }
    },
    {
      "cell_type": "markdown",
      "source": [
        "For transfer learning: \\\\\n",
        "remove '#' in line 29 in 'srcnn_fsrcnn_srgan/FSRCNN/solver.py'"
      ],
      "metadata": {
        "id": "v1ZyUk-W9_kh"
      }
    },
    {
      "cell_type": "code",
      "source": [
        "!python3 main.py -m srcnn \\\n",
        "                 --lr 0.0003 \\\n",
        "                 --nEpochs 20"
      ],
      "metadata": {
        "id": "H1ZvJIdedoZk"
      },
      "execution_count": null,
      "outputs": []
    },
    {
      "cell_type": "code",
      "source": [
        "!zip -r /contetn/fsrcnn_model.zip '/content/srcnn_fsrcnn_srgan/model_path.pth'"
      ],
      "metadata": {
        "id": "OIAGW2Xwdt8e"
      },
      "execution_count": null,
      "outputs": []
    },
    {
      "cell_type": "code",
      "source": [
        "from google.colab import files\n",
        "files.download(\"/content/fsrcnn_model.zip\")"
      ],
      "metadata": {
        "id": "2lSK0B0nd6qO"
      },
      "execution_count": null,
      "outputs": []
    },
    {
      "cell_type": "markdown",
      "source": [
        "iii. SRGAN"
      ],
      "metadata": {
        "id": "aA-cf8IheHtj"
      }
    },
    {
      "cell_type": "code",
      "source": [
        "!python3 main.py -m srgan \\\n",
        "                 --lr 0.0003 \\\n",
        "                 --nEpochs 20"
      ],
      "metadata": {
        "id": "x22EXoSNdpYL"
      },
      "execution_count": null,
      "outputs": []
    },
    {
      "cell_type": "code",
      "execution_count": null,
      "metadata": {
        "id": "GEP_EfNi6g8A",
        "colab": {
          "base_uri": "https://localhost:8080/"
        },
        "outputId": "0009dd9e-e942-4e70-e49f-1363d187cdad"
      },
      "outputs": [
        {
          "output_type": "stream",
          "name": "stdout",
          "text": [
            "  adding: content/super-resolution/SRGAN_Generator_model_path.pth (deflated 8%)\n"
          ]
        }
      ],
      "source": [
        "!zip -r /content/mGen.zip '/content/srcnn_fsrcnn_srgan/SRGAN_Generator_model_path.pth'"
      ]
    },
    {
      "cell_type": "code",
      "execution_count": null,
      "metadata": {
        "id": "fp00R-L4dShR",
        "colab": {
          "base_uri": "https://localhost:8080/"
        },
        "outputId": "7d2c02ac-e5a7-48b0-a4dc-24121996ad4f"
      },
      "outputs": [
        {
          "output_type": "stream",
          "name": "stdout",
          "text": [
            "  adding: content/super-resolution/SRGAN_Discriminator_model_path.pth (deflated 8%)\n"
          ]
        }
      ],
      "source": [
        "!zip -r /content/mDis.zip '/content/srcnn_fsrcnn_srgan/SRGAN_Discriminator_model_path.pth'"
      ]
    },
    {
      "cell_type": "code",
      "execution_count": null,
      "metadata": {
        "id": "IcF9q6wuXPxb",
        "colab": {
          "base_uri": "https://localhost:8080/",
          "height": 34
        },
        "outputId": "9f85368e-814b-43e1-ebec-4ddf4d2d0db8"
      },
      "outputs": [
        {
          "output_type": "display_data",
          "data": {
            "text/plain": [
              "<IPython.core.display.Javascript object>"
            ],
            "application/javascript": [
              "\n",
              "    async function download(id, filename, size) {\n",
              "      if (!google.colab.kernel.accessAllowed) {\n",
              "        return;\n",
              "      }\n",
              "      const div = document.createElement('div');\n",
              "      const label = document.createElement('label');\n",
              "      label.textContent = `Downloading \"${filename}\": `;\n",
              "      div.appendChild(label);\n",
              "      const progress = document.createElement('progress');\n",
              "      progress.max = size;\n",
              "      div.appendChild(progress);\n",
              "      document.body.appendChild(div);\n",
              "\n",
              "      const buffers = [];\n",
              "      let downloaded = 0;\n",
              "\n",
              "      const channel = await google.colab.kernel.comms.open(id);\n",
              "      // Send a message to notify the kernel that we're ready.\n",
              "      channel.send({})\n",
              "\n",
              "      for await (const message of channel.messages) {\n",
              "        // Send a message to notify the kernel that we're ready.\n",
              "        channel.send({})\n",
              "        if (message.buffers) {\n",
              "          for (const buffer of message.buffers) {\n",
              "            buffers.push(buffer);\n",
              "            downloaded += buffer.byteLength;\n",
              "            progress.value = downloaded;\n",
              "          }\n",
              "        }\n",
              "      }\n",
              "      const blob = new Blob(buffers, {type: 'application/binary'});\n",
              "      const a = document.createElement('a');\n",
              "      a.href = window.URL.createObjectURL(blob);\n",
              "      a.download = filename;\n",
              "      div.appendChild(a);\n",
              "      a.click();\n",
              "      div.remove();\n",
              "    }\n",
              "  "
            ]
          },
          "metadata": {}
        },
        {
          "output_type": "display_data",
          "data": {
            "text/plain": [
              "<IPython.core.display.Javascript object>"
            ],
            "application/javascript": [
              "download(\"download_2e7f2e87-3377-4ea8-bdf2-607a8ff04770\", \"mGen.zip\", 5710376)"
            ]
          },
          "metadata": {}
        },
        {
          "output_type": "display_data",
          "data": {
            "text/plain": [
              "<IPython.core.display.Javascript object>"
            ],
            "application/javascript": [
              "\n",
              "    async function download(id, filename, size) {\n",
              "      if (!google.colab.kernel.accessAllowed) {\n",
              "        return;\n",
              "      }\n",
              "      const div = document.createElement('div');\n",
              "      const label = document.createElement('label');\n",
              "      label.textContent = `Downloading \"${filename}\": `;\n",
              "      div.appendChild(label);\n",
              "      const progress = document.createElement('progress');\n",
              "      progress.max = size;\n",
              "      div.appendChild(progress);\n",
              "      document.body.appendChild(div);\n",
              "\n",
              "      const buffers = [];\n",
              "      let downloaded = 0;\n",
              "\n",
              "      const channel = await google.colab.kernel.comms.open(id);\n",
              "      // Send a message to notify the kernel that we're ready.\n",
              "      channel.send({})\n",
              "\n",
              "      for await (const message of channel.messages) {\n",
              "        // Send a message to notify the kernel that we're ready.\n",
              "        channel.send({})\n",
              "        if (message.buffers) {\n",
              "          for (const buffer of message.buffers) {\n",
              "            buffers.push(buffer);\n",
              "            downloaded += buffer.byteLength;\n",
              "            progress.value = downloaded;\n",
              "          }\n",
              "        }\n",
              "      }\n",
              "      const blob = new Blob(buffers, {type: 'application/binary'});\n",
              "      const a = document.createElement('a');\n",
              "      a.href = window.URL.createObjectURL(blob);\n",
              "      a.download = filename;\n",
              "      div.appendChild(a);\n",
              "      a.click();\n",
              "      div.remove();\n",
              "    }\n",
              "  "
            ]
          },
          "metadata": {}
        },
        {
          "output_type": "display_data",
          "data": {
            "text/plain": [
              "<IPython.core.display.Javascript object>"
            ],
            "application/javascript": [
              "download(\"download_035d4ca9-2ae9-4e9f-bfab-418ab1a0aca2\", \"mDis.zip\", 17376248)"
            ]
          },
          "metadata": {}
        }
      ],
      "source": [
        "from google.colab import files\n",
        "files.download(\"/content/mGen.zip\")\n",
        "files.download(\"/content/mDis.zip\")"
      ]
    },
    {
      "cell_type": "markdown",
      "source": [
        "## TEST"
      ],
      "metadata": {
        "id": "gSMqyeZ1eJPU"
      }
    },
    {
      "cell_type": "markdown",
      "source": [
        "(1) Define quality metric functions"
      ],
      "metadata": {
        "id": "r6EAdv3WAJAP"
      }
    },
    {
      "cell_type": "code",
      "execution_count": 19,
      "metadata": {
        "id": "MDzvxAAIU9FF"
      },
      "outputs": [],
      "source": [
        "from skimage.metrics import structural_similarity as ssim\n",
        "\n",
        "# define a function for peak signal-to-noise ratio (PSNR)\n",
        "def psnr(target, ref):\n",
        "         \n",
        "    # assume RGB image\n",
        "    target_data = target.astype(float)\n",
        "    ref_data = ref.astype(float)\n",
        "\n",
        "    diff = ref_data - target_data\n",
        "    diff = diff.flatten('C')\n",
        "\n",
        "    rmse = math.sqrt(np.mean(diff ** 2.))\n",
        "\n",
        "    return 20 * math.log10(255. / rmse)\n",
        "\n",
        "# define function for mean squared error (MSE)\n",
        "def mse(target, ref):\n",
        "    # the MSE between the two images is the sum of the squared difference between the two images\n",
        "    err = np.sum((target.astype('float') - ref.astype('float')) ** 2)\n",
        "    err /= float(target.shape[0] * target.shape[1])\n",
        "    \n",
        "    return err\n",
        "\n",
        "# define function that combines all three image quality metrics\n",
        "def compare_images(target, ref):\n",
        "    scores = []\n",
        "    scores.append(psnr(target, ref))\n",
        "    scores.append(mse(target, ref))\n",
        "    scores.append(ssim(target, ref, multichannel =True))\n",
        "    \n",
        "    return scores"
      ]
    },
    {
      "cell_type": "markdown",
      "source": [
        "(2) Execute model on specific image:"
      ],
      "metadata": {
        "id": "pt1cn9fhAMWq"
      }
    },
    {
      "cell_type": "markdown",
      "source": [
        "i. SRCNN & FSRCNN"
      ],
      "metadata": {
        "id": "mV2lhTVQfwQh"
      }
    },
    {
      "cell_type": "code",
      "source": [
        "!python3 super_resolve.py --input '/content/drive/MyDrive/MA/IVUS_LowRes_Scale4_Valid/005.png' \\\n",
        "                          --output 'test.png' \\\n",
        "                          --model '/content/srcnn_fsrcnn_srgan/model_path.pth'"
      ],
      "metadata": {
        "colab": {
          "base_uri": "https://localhost:8080/"
        },
        "id": "YeZItRfbfvuA",
        "outputId": "c5e0b63c-d653-46e2-fbe6-5567c7b543a6"
      },
      "execution_count": 20,
      "outputs": [
        {
          "output_type": "stream",
          "name": "stdout",
          "text": [
            "Namespace(input='/content/drive/MyDrive/MA/IVUS_LowRes_Scale4_Valid/005.png', model='/content/srcnn_fsrcnn_srgan/model_path.pth', output='test.png')\n",
            "output image saved to  test.png\n"
          ]
        }
      ]
    },
    {
      "cell_type": "markdown",
      "source": [
        "ii. SRGAN"
      ],
      "metadata": {
        "id": "Yreqp0Ldfxub"
      }
    },
    {
      "cell_type": "code",
      "execution_count": null,
      "metadata": {
        "id": "Nl-ybFxzUgAl"
      },
      "outputs": [],
      "source": [
        "!python3 super_resolve.py --input '/content/drive/MyDrive/MA/IVUS_LowRes_Scale4_Valid/005.png' \\\n",
        "                          --output 'test.png' \\\n",
        "                          --model '/content/super-resolution/SRGAN_Generator_model_path.pth'"
      ]
    },
    {
      "cell_type": "markdown",
      "source": [
        "(3) Print results \\\\\n",
        "(make sure to adapt ref and degraded parts according to image read above)"
      ],
      "metadata": {
        "id": "yR1x_dipAUZ0"
      }
    },
    {
      "cell_type": "code",
      "execution_count": 22,
      "metadata": {
        "colab": {
          "base_uri": "https://localhost:8080/"
        },
        "id": "2X8TAtMMU_I3",
        "outputId": "07b45eee-22bf-48cf-846c-ec7db8586738"
      },
      "outputs": [
        {
          "output_type": "stream",
          "name": "stdout",
          "text": [
            "Degraded Image: \n",
            "PSNR: 29.40398264707939\n",
            "MSE: 223.77076721191406\n",
            "SSIM: 0.8560081594432712\n",
            "\n",
            "Reconstructed Image: \n",
            "PSNR: 21.210756573209252\n",
            "MSE: 1476.134593963623\n",
            "SSIM: 0.5657327444253906\n",
            "\n"
          ]
        }
      ],
      "source": [
        "import math\n",
        "import numpy as np\n",
        "import cv2\n",
        "\n",
        "ref = cv2.imread('/content/drive/MyDrive/MA/IVUSImages_PNG_Valid2/001.png')\n",
        "degraded = cv2.imread('/content/drive/MyDrive/MA/IVUS_LowRes_Scale4_Valid/001.png')\n",
        "output = cv2.imread('/content/srcnn_fsrcnn_srgan/test.png')\n",
        "  \n",
        "# image quality calculations\n",
        "scores = []\n",
        "h, w, _ = degraded.shape\n",
        "degraded2 = cv2.resize(degraded, (4*w, 4*h))\n",
        "scores.append(compare_images(degraded2, ref))\n",
        "\n",
        "scores.append(compare_images(output, ref))\n",
        "\n",
        "  \n",
        "# print all scores for all images\n",
        "print('Degraded Image: \\nPSNR: {}\\nMSE: {}\\nSSIM: {}\\n'.format(scores[0][0], scores[0][1], scores[0][2]))\n",
        "print('Reconstructed Image: \\nPSNR: {}\\nMSE: {}\\nSSIM: {}\\n'.format(scores[1][0], scores[1][1], scores[1][2]))"
      ]
    }
  ],
  "metadata": {
    "colab": {
      "collapsed_sections": [],
      "machine_shape": "hm",
      "name": "SRCNN_FSRCNN_SRGAN",
      "provenance": []
    },
    "gpuClass": "standard",
    "kernelspec": {
      "display_name": "Python 3",
      "name": "python3"
    },
    "language_info": {
      "name": "python"
    },
    "accelerator": "GPU"
  },
  "nbformat": 4,
  "nbformat_minor": 0
}